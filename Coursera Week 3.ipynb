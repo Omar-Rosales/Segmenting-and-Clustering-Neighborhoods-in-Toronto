{
    "cells": [
        {
            "cell_type": "markdown",
            "metadata": {},
            "source": "# Question 1: "
        },
        {
            "cell_type": "code",
            "execution_count": 1,
            "metadata": {
                "scrolled": true
            },
            "outputs": [
                {
                    "name": "stdout",
                    "output_type": "stream",
                    "text": "Libraries imported.\n"
                }
            ],
            "source": "import numpy as np # library to handle data in a vectorized manner\nimport pandas as pd # library for data analsysis\nimport requests # Library for web scraping\n\nprint('Libraries imported.')"
        },
        {
            "cell_type": "code",
            "execution_count": 2,
            "metadata": {},
            "outputs": [
                {
                    "name": "stdout",
                    "output_type": "stream",
                    "text": "BeautifulSoup  & csv imported.\n"
                }
            ],
            "source": "# To run this, you can install BeautifulSoup\n# https://pypi.python.org/pypi/beautifulsoup4\n\n# Or download the file\n# http://beautiful-soup-4\n# and unzip it in the same directory as this file\nimport requests\nfrom urllib.request import urlopen\nfrom bs4 import BeautifulSoup\nimport ssl\nimport csv\n\nprint('BeautifulSoup  & csv imported.')"
        },
        {
            "cell_type": "code",
            "execution_count": 3,
            "metadata": {},
            "outputs": [
                {
                    "name": "stdout",
                    "output_type": "stream",
                    "text": "SSL certificate errors ignored.\n"
                }
            ],
            "source": "# Ignore SSL certificate errors\nctx = ssl.create_default_context()\nctx.check_hostname = False\nctx.verify_mode = ssl.CERT_NONE\n\nprint('SSL certificate errors ignored.')"
        },
        {
            "cell_type": "code",
            "execution_count": 4,
            "metadata": {},
            "outputs": [
                {
                    "name": "stdout",
                    "output_type": "stream",
                    "text": "soup ready\n"
                }
            ],
            "source": "source = requests.get('https://en.wikipedia.org/wiki/List_of_postal_codes_of_Canada:_M').text\n\nsoup = BeautifulSoup(source, 'lxml')\n\n#print(soup.prettify())\nprint('soup ready')"
        },
        {
            "cell_type": "code",
            "execution_count": 5,
            "metadata": {},
            "outputs": [],
            "source": "table = soup.find('table',{'class':'wikitable sortable'})\n#table"
        },
        {
            "cell_type": "code",
            "execution_count": 6,
            "metadata": {},
            "outputs": [],
            "source": "\ntable_rows = table.find_all('tr')\n\n#table_rows"
        },
        {
            "cell_type": "code",
            "execution_count": 7,
            "metadata": {},
            "outputs": [],
            "source": "data = []\nfor row in table_rows:\n    data.append([t.text.strip() for t in row.find_all('td')])\n\ndf = pd.DataFrame(data, columns=['PostalCode', 'Borough', 'Neighbourhood'])\ndf = df[~df['PostalCode'].isnull()]  # to filter out bad rows\n\n#print(df.head(5))\n#print('***')\n#print(df.tail(5))"
        },
        {
            "cell_type": "code",
            "execution_count": 8,
            "metadata": {},
            "outputs": [
                {
                    "name": "stdout",
                    "output_type": "stream",
                    "text": "<class 'pandas.core.frame.DataFrame'>\nInt64Index: 180 entries, 1 to 180\nData columns (total 3 columns):\nPostalCode       180 non-null object\nBorough          180 non-null object\nNeighbourhood    180 non-null object\ndtypes: object(3)\nmemory usage: 5.6+ KB\n"
                }
            ],
            "source": "df.info()"
        },
        {
            "cell_type": "code",
            "execution_count": 9,
            "metadata": {},
            "outputs": [
                {
                    "data": {
                        "text/plain": "(180, 3)"
                    },
                    "execution_count": 9,
                    "metadata": {},
                    "output_type": "execute_result"
                }
            ],
            "source": "df.shape"
        },
        {
            "cell_type": "code",
            "execution_count": 10,
            "metadata": {},
            "outputs": [],
            "source": "import pandas\nimport requests\nfrom bs4 import BeautifulSoup\nwebsite_text = requests.get('https://en.wikipedia.org/wiki/List_of_postal_codes_of_Canada:_M').text\nsoup = BeautifulSoup(website_text,'lxml')\n\ntable = soup.find('table',{'class':'wikitable sortable'})\ntable_rows = table.find_all('tr')\n\ndata = []\nfor row in table_rows:\n    data.append([t.text.strip() for t in row.find_all('td')])\n\ndf = pandas.DataFrame(data, columns=['PostalCode', 'Borough', 'Neighbourhood'])\ndf = df[~df['PostalCode'].isnull()]  # to filter out bad rows\n\n#df.head(15)"
        },
        {
            "cell_type": "code",
            "execution_count": 11,
            "metadata": {},
            "outputs": [],
            "source": "\ndf.drop(df[df['Borough']==\"Not assigned\"].index,axis=0, inplace=True)\n#df.head()"
        },
        {
            "cell_type": "code",
            "execution_count": 12,
            "metadata": {},
            "outputs": [],
            "source": "df1 = df.reset_index()\n#df1.head()"
        },
        {
            "cell_type": "code",
            "execution_count": 13,
            "metadata": {},
            "outputs": [
                {
                    "name": "stdout",
                    "output_type": "stream",
                    "text": "<class 'pandas.core.frame.DataFrame'>\nRangeIndex: 103 entries, 0 to 102\nData columns (total 4 columns):\nindex            103 non-null int64\nPostalCode       103 non-null object\nBorough          103 non-null object\nNeighbourhood    103 non-null object\ndtypes: int64(1), object(3)\nmemory usage: 3.3+ KB\n"
                }
            ],
            "source": "df1.info()"
        },
        {
            "cell_type": "code",
            "execution_count": 14,
            "metadata": {},
            "outputs": [
                {
                    "data": {
                        "text/plain": "(103, 4)"
                    },
                    "execution_count": 14,
                    "metadata": {},
                    "output_type": "execute_result"
                }
            ],
            "source": "df1.shape"
        },
        {
            "cell_type": "markdown",
            "metadata": {},
            "source": "More than one neighborhood can exist in one postal code area, M5A is listed twice and has two neighborhoods Harbourfront and Regent Park. These two rows will be combined into one row with the neighborhoods separated with a comma using groupby, see: \n\nhttps://pandas-docs.github.io/pandas-docs-travis/user_guide/groupby.html\n"
        },
        {
            "cell_type": "code",
            "execution_count": 15,
            "metadata": {},
            "outputs": [],
            "source": "df2= df1.groupby('PostalCode').agg(lambda x: ','.join(x))\n\n#df2.head()\n       "
        },
        {
            "cell_type": "code",
            "execution_count": 16,
            "metadata": {},
            "outputs": [
                {
                    "name": "stdout",
                    "output_type": "stream",
                    "text": "<class 'pandas.core.frame.DataFrame'>\nIndex: 103 entries, M1B to M9W\nData columns (total 2 columns):\nBorough          103 non-null object\nNeighbourhood    103 non-null object\ndtypes: object(2)\nmemory usage: 2.4+ KB\n"
                }
            ],
            "source": "df2.info()"
        },
        {
            "cell_type": "code",
            "execution_count": 17,
            "metadata": {},
            "outputs": [
                {
                    "data": {
                        "text/plain": "(103, 2)"
                    },
                    "execution_count": 17,
                    "metadata": {},
                    "output_type": "execute_result"
                }
            ],
            "source": "df2.shape"
        },
        {
            "cell_type": "markdown",
            "metadata": {},
            "source": "There are also cells that have an assigned neighbouhoods,like M7A, lets assign their boroughs as their neighbourhood, as follows:"
        },
        {
            "cell_type": "code",
            "execution_count": 18,
            "metadata": {},
            "outputs": [],
            "source": "\ndf2.loc[df2['Neighbourhood']==\"Not assigned\",'Neighbourhood']=df2.loc[df2['Neighbourhood']==\"Not assigned\",'Borough']\n\n#df2.head()\n\n"
        },
        {
            "cell_type": "code",
            "execution_count": 19,
            "metadata": {},
            "outputs": [],
            "source": "df3 = df2.reset_index()\n#df3.head()"
        },
        {
            "cell_type": "markdown",
            "metadata": {},
            "source": "Now we can remove the duplicate boroughts as follows:"
        },
        {
            "cell_type": "code",
            "execution_count": 20,
            "metadata": {},
            "outputs": [],
            "source": "df3['Borough']= df3['Borough'].str.replace('nan|[{}\\s]','').str.split(',').apply(set).str.join(',').str.strip(',').str.replace(\",{2,}\",\",\")"
        },
        {
            "cell_type": "code",
            "execution_count": 21,
            "metadata": {},
            "outputs": [
                {
                    "data": {
                        "text/html": "<div>\n<style scoped>\n    .dataframe tbody tr th:only-of-type {\n        vertical-align: middle;\n    }\n\n    .dataframe tbody tr th {\n        vertical-align: top;\n    }\n\n    .dataframe thead th {\n        text-align: right;\n    }\n</style>\n<table border=\"1\" class=\"dataframe\">\n  <thead>\n    <tr style=\"text-align: right;\">\n      <th></th>\n      <th>PostalCode</th>\n      <th>Borough</th>\n      <th>Neighbourhood</th>\n    </tr>\n  </thead>\n  <tbody>\n    <tr>\n      <th>0</th>\n      <td>M1B</td>\n      <td>Scarborough</td>\n      <td>Malvern, Rouge</td>\n    </tr>\n    <tr>\n      <th>1</th>\n      <td>M1C</td>\n      <td>Scarborough</td>\n      <td>Rouge Hill, Port Union, Highland Creek</td>\n    </tr>\n    <tr>\n      <th>2</th>\n      <td>M1E</td>\n      <td>Scarborough</td>\n      <td>Guildwood, Morningside, West Hill</td>\n    </tr>\n    <tr>\n      <th>3</th>\n      <td>M1G</td>\n      <td>Scarborough</td>\n      <td>Woburn</td>\n    </tr>\n    <tr>\n      <th>4</th>\n      <td>M1H</td>\n      <td>Scarborough</td>\n      <td>Cedarbrae</td>\n    </tr>\n  </tbody>\n</table>\n</div>",
                        "text/plain": "  PostalCode      Borough                           Neighbourhood\n0        M1B  Scarborough                          Malvern, Rouge\n1        M1C  Scarborough  Rouge Hill, Port Union, Highland Creek\n2        M1E  Scarborough       Guildwood, Morningside, West Hill\n3        M1G  Scarborough                                  Woburn\n4        M1H  Scarborough                               Cedarbrae"
                    },
                    "execution_count": 21,
                    "metadata": {},
                    "output_type": "execute_result"
                }
            ],
            "source": "df3.head()"
        },
        {
            "cell_type": "code",
            "execution_count": 22,
            "metadata": {},
            "outputs": [
                {
                    "name": "stdout",
                    "output_type": "stream",
                    "text": "<class 'pandas.core.frame.DataFrame'>\nRangeIndex: 103 entries, 0 to 102\nData columns (total 3 columns):\nPostalCode       103 non-null object\nBorough          103 non-null object\nNeighbourhood    103 non-null object\ndtypes: object(3)\nmemory usage: 2.5+ KB\n"
                }
            ],
            "source": "df3.info()"
        },
        {
            "cell_type": "code",
            "execution_count": 23,
            "metadata": {},
            "outputs": [
                {
                    "data": {
                        "text/plain": "(103, 3)"
                    },
                    "execution_count": 23,
                    "metadata": {},
                    "output_type": "execute_result"
                }
            ],
            "source": "df3.shape"
        },
        {
            "cell_type": "markdown",
            "metadata": {},
            "source": "\n# Question 2: "
        },
        {
            "cell_type": "code",
            "execution_count": 24,
            "metadata": {},
            "outputs": [
                {
                    "name": "stdout",
                    "output_type": "stream",
                    "text": "\nThe following command must be run outside of the IPython shell:\n\n    $ pip install geopy\n\nThe Python package manager (pip) can only be used from outside of IPython.\nPlease reissue the `pip` command in a separate terminal or command prompt.\n\nSee the Python documentation for more information on how to install packages:\n\n    https://docs.python.org/3/installing/\n"
                }
            ],
            "source": "pip install geopy"
        },
        {
            "cell_type": "code",
            "execution_count": 25,
            "metadata": {},
            "outputs": [
                {
                    "name": "stderr",
                    "output_type": "stream",
                    "text": "/opt/conda/envs/Python36/lib/python3.6/site-packages/ipykernel/__main__.py:2: DeprecationWarning: Using Nominatim with the default \"geopy/1.18.1\" `user_agent` is strongly discouraged, as it violates Nominatim's ToS https://operations.osmfoundation.org/policies/nominatim/ and may possibly cause 403 and 429 HTTP errors. Please specify a custom `user_agent` with `Nominatim(user_agent=\"my-application\")` or by overriding the default `user_agent`: `geopy.geocoders.options.default_user_agent = \"my-application\"`. In geopy 2.0 this will become an exception.\n  from ipykernel import kernelapp as app\n"
                },
                {
                    "name": "stdout",
                    "output_type": "stream",
                    "text": "latitude is :- 51.5073219 \nlongtitude is:- -0.1276474\n"
                }
            ],
            "source": "from  geopy.geocoders import Nominatim\ngeolocator = Nominatim()\ncity =\"London\"\ncountry =\"Uk\"\nloc = geolocator.geocode(city+','+ country)\nprint(\"latitude is :-\" ,loc.latitude,\"\\nlongtitude is:-\" ,loc.longitude)"
        },
        {
            "cell_type": "code",
            "execution_count": 26,
            "metadata": {},
            "outputs": [
                {
                    "name": "stderr",
                    "output_type": "stream",
                    "text": "/opt/conda/envs/Python36/lib/python3.6/site-packages/ipykernel/__main__.py:2: DeprecationWarning: Using Nominatim with the default \"geopy/1.18.1\" `user_agent` is strongly discouraged, as it violates Nominatim's ToS https://operations.osmfoundation.org/policies/nominatim/ and may possibly cause 403 and 429 HTTP errors. Please specify a custom `user_agent` with `Nominatim(user_agent=\"my-application\")` or by overriding the default `user_agent`: `geopy.geocoders.options.default_user_agent = \"my-application\"`. In geopy 2.0 this will become an exception.\n  from ipykernel import kernelapp as app\n"
                },
                {
                    "name": "stdout",
                    "output_type": "stream",
                    "text": "Parkwoods Village Drive, Parkway East, Don Valley East, North York, Toronto, Golden Horseshoe, Ontario, M3A 2X2, Canada\n\n(43.7587999, -79.3201966)\n\n{'place_id': 124974741, 'licence': 'Data \u00a9 OpenStreetMap contributors, ODbL 1.0. https://osm.org/copyright', 'osm_type': 'way', 'osm_id': 160406961, 'boundingbox': ['43.7576231', '43.761106', '-79.3239088', '-79.316215'], 'lat': '43.7587999', 'lon': '-79.3201966', 'display_name': 'Parkwoods Village Drive, Parkway East, Don Valley East, North York, Toronto, Golden Horseshoe, Ontario, M3A 2X2, Canada', 'class': 'highway', 'type': 'secondary', 'importance': 0.51}\n"
                }
            ],
            "source": "from  geopy.geocoders import Nominatim\ngeolocator = Nominatim()\nlocation = geolocator.geocode(\"Toronto, North York, Parkwoods\")\n\nprint(location.address)\nprint('')\nprint((location.latitude, location.longitude))\nprint('')\nprint(location.raw)\n"
        },
        {
            "cell_type": "code",
            "execution_count": 27,
            "metadata": {},
            "outputs": [],
            "source": "import pandas as pd\n#df3.head()"
        },
        {
            "cell_type": "code",
            "execution_count": 28,
            "metadata": {},
            "outputs": [
                {
                    "name": "stderr",
                    "output_type": "stream",
                    "text": "/opt/conda/envs/Python36/lib/python3.6/site-packages/ipykernel/__main__.py:8: DeprecationWarning: Using Nominatim with the default \"geopy/1.18.1\" `user_agent` is strongly discouraged, as it violates Nominatim's ToS https://operations.osmfoundation.org/policies/nominatim/ and may possibly cause 403 and 429 HTTP errors. Please specify a custom `user_agent` with `Nominatim(user_agent=\"my-application\")` or by overriding the default `user_agent`: `geopy.geocoders.options.default_user_agent = \"my-application\"`. In geopy 2.0 this will become an exception.\n"
                }
            ],
            "source": "\nimport pandas as pd\ndf_geopy = pd.DataFrame({'PostalCode': ['M3A', 'M4A', 'M5A'],\n                         'Borough': ['North York', 'North York', 'Downtown Toronto'],\n                         'Neighbourhood': ['Parkwoods', 'Victoria Village', 'Harbourfront'],})\n\nfrom geopy.geocoders import Nominatim\ngeolocator = Nominatim()\n\n"
        },
        {
            "cell_type": "code",
            "execution_count": 29,
            "metadata": {},
            "outputs": [],
            "source": "df_geopy1 = df3\n#df_geopy1"
        },
        {
            "cell_type": "code",
            "execution_count": 30,
            "metadata": {},
            "outputs": [
                {
                    "name": "stderr",
                    "output_type": "stream",
                    "text": "/opt/conda/envs/Python36/lib/python3.6/site-packages/ipykernel/__main__.py:2: DeprecationWarning: Using Nominatim with the default \"geopy/1.18.1\" `user_agent` is strongly discouraged, as it violates Nominatim's ToS https://operations.osmfoundation.org/policies/nominatim/ and may possibly cause 403 and 429 HTTP errors. Please specify a custom `user_agent` with `Nominatim(user_agent=\"my-application\")` or by overriding the default `user_agent`: `geopy.geocoders.options.default_user_agent = \"my-application\"`. In geopy 2.0 this will become an exception.\n  from ipykernel import kernelapp as app\n"
                },
                {
                    "data": {
                        "text/html": "<div>\n<style scoped>\n    .dataframe tbody tr th:only-of-type {\n        vertical-align: middle;\n    }\n\n    .dataframe tbody tr th {\n        vertical-align: top;\n    }\n\n    .dataframe thead th {\n        text-align: right;\n    }\n</style>\n<table border=\"1\" class=\"dataframe\">\n  <thead>\n    <tr style=\"text-align: right;\">\n      <th></th>\n      <th>PostalCode</th>\n      <th>Borough</th>\n      <th>Neighbourhood</th>\n      <th>address</th>\n    </tr>\n  </thead>\n  <tbody>\n    <tr>\n      <th>0</th>\n      <td>M1B</td>\n      <td>Scarborough</td>\n      <td>Malvern, Rouge</td>\n      <td>M1B, Scarborough, Malvern, Rouge</td>\n    </tr>\n    <tr>\n      <th>1</th>\n      <td>M1C</td>\n      <td>Scarborough</td>\n      <td>Rouge Hill, Port Union, Highland Creek</td>\n      <td>M1C, Scarborough, Rouge Hill, Port Union, High...</td>\n    </tr>\n    <tr>\n      <th>2</th>\n      <td>M1E</td>\n      <td>Scarborough</td>\n      <td>Guildwood, Morningside, West Hill</td>\n      <td>M1E, Scarborough, Guildwood, Morningside, West...</td>\n    </tr>\n    <tr>\n      <th>3</th>\n      <td>M1G</td>\n      <td>Scarborough</td>\n      <td>Woburn</td>\n      <td>M1G, Scarborough, Woburn</td>\n    </tr>\n    <tr>\n      <th>4</th>\n      <td>M1H</td>\n      <td>Scarborough</td>\n      <td>Cedarbrae</td>\n      <td>M1H, Scarborough, Cedarbrae</td>\n    </tr>\n  </tbody>\n</table>\n</div>",
                        "text/plain": "  PostalCode      Borough                           Neighbourhood  \\\n0        M1B  Scarborough                          Malvern, Rouge   \n1        M1C  Scarborough  Rouge Hill, Port Union, Highland Creek   \n2        M1E  Scarborough       Guildwood, Morningside, West Hill   \n3        M1G  Scarborough                                  Woburn   \n4        M1H  Scarborough                               Cedarbrae   \n\n                                             address  \n0                   M1B, Scarborough, Malvern, Rouge  \n1  M1C, Scarborough, Rouge Hill, Port Union, High...  \n2  M1E, Scarborough, Guildwood, Morningside, West...  \n3                           M1G, Scarborough, Woburn  \n4                        M1H, Scarborough, Cedarbrae  "
                    },
                    "execution_count": 30,
                    "metadata": {},
                    "output_type": "execute_result"
                }
            ],
            "source": "from geopy.geocoders import Nominatim\ngeolocator = Nominatim()\n\ndf_geopy1['address'] = df3[['PostalCode', 'Borough', 'Neighbourhood']].apply(lambda x: ', '.join(x), axis=1 )\ndf_geopy1.head()"
        },
        {
            "cell_type": "code",
            "execution_count": 31,
            "metadata": {},
            "outputs": [],
            "source": "df_geopy1 = df3"
        },
        {
            "cell_type": "code",
            "execution_count": 32,
            "metadata": {},
            "outputs": [
                {
                    "data": {
                        "text/plain": "(103, 4)"
                    },
                    "execution_count": 32,
                    "metadata": {},
                    "output_type": "execute_result"
                }
            ],
            "source": "df_geopy1.shape\n"
        },
        {
            "cell_type": "code",
            "execution_count": 33,
            "metadata": {},
            "outputs": [
                {
                    "name": "stdout",
                    "output_type": "stream",
                    "text": "<class 'pandas.core.frame.DataFrame'>\nRangeIndex: 103 entries, 0 to 102\nData columns (total 4 columns):\nPostalCode       103 non-null object\nBorough          103 non-null object\nNeighbourhood    103 non-null object\naddress          103 non-null object\ndtypes: object(4)\nmemory usage: 3.3+ KB\n"
                }
            ],
            "source": "df_geopy1.info()"
        },
        {
            "cell_type": "code",
            "execution_count": 34,
            "metadata": {},
            "outputs": [
                {
                    "name": "stdout",
                    "output_type": "stream",
                    "text": "<class 'pandas.core.frame.DataFrame'>\nInt64Index: 103 entries, 0 to 102\nData columns (total 4 columns):\nPostalCode       103 non-null object\nBorough          103 non-null object\nNeighbourhood    103 non-null object\naddress          103 non-null object\ndtypes: object(4)\nmemory usage: 4.0+ KB\n"
                }
            ],
            "source": "df_geopy1.drop(df_geopy1[df_geopy1['Borough']==\"Notassigned\"].index,axis=0, inplace=True)\n#df_geopy1\n# code holds true up until i=102\ndf_geopy1.info()\n"
        },
        {
            "cell_type": "code",
            "execution_count": 35,
            "metadata": {},
            "outputs": [],
            "source": "#df_geopy1.head()\n"
        },
        {
            "cell_type": "code",
            "execution_count": 36,
            "metadata": {},
            "outputs": [
                {
                    "data": {
                        "text/plain": "(103, 4)"
                    },
                    "execution_count": 36,
                    "metadata": {},
                    "output_type": "execute_result"
                }
            ],
            "source": "df_geopy1.shape\n"
        },
        {
            "cell_type": "code",
            "execution_count": 37,
            "metadata": {},
            "outputs": [],
            "source": "df_geopy1.to_csv('geopy1.csv')\n# no data for location after row 75"
        },
        {
            "cell_type": "markdown",
            "metadata": {},
            "source": "Now let's test for location = 'M1G, Scarborough, Woburn'"
        },
        {
            "cell_type": "code",
            "execution_count": 38,
            "metadata": {},
            "outputs": [
                {
                    "name": "stderr",
                    "output_type": "stream",
                    "text": "/opt/conda/envs/Python36/lib/python3.6/site-packages/ipykernel/__main__.py:2: DeprecationWarning: Using Nominatim with the default \"geopy/1.18.1\" `user_agent` is strongly discouraged, as it violates Nominatim's ToS https://operations.osmfoundation.org/policies/nominatim/ and may possibly cause 403 and 429 HTTP errors. Please specify a custom `user_agent` with `Nominatim(user_agent=\"my-application\")` or by overriding the default `user_agent`: `geopy.geocoders.options.default_user_agent = \"my-application\"`. In geopy 2.0 this will become an exception.\n  from ipykernel import kernelapp as app\n"
                }
            ],
            "source": "from  geopy.geocoders import Nominatim\ngeolocator = Nominatim()\nlocation = geolocator.geocode(\"M1G, Scarborough, Woburn\")\n\n\n#print(location.address)\n\n#print((location.latitude, location.longitude))\n\n#print(location.raw)\n"
        },
        {
            "cell_type": "code",
            "execution_count": 39,
            "metadata": {},
            "outputs": [
                {
                    "name": "stdout",
                    "output_type": "stream",
                    "text": "\nThe following command must be run outside of the IPython shell:\n\n    $ pip install geocoder\n\nThe Python package manager (pip) can only be used from outside of IPython.\nPlease reissue the `pip` command in a separate terminal or command prompt.\n\nSee the Python documentation for more information on how to install packages:\n\n    https://docs.python.org/3/installing/\n"
                }
            ],
            "source": "pip install geocoder"
        },
        {
            "cell_type": "markdown",
            "metadata": {},
            "source": "### Retrieved coordinates with lambda equation "
        },
        {
            "cell_type": "code",
            "execution_count": 48,
            "metadata": {},
            "outputs": [],
            "source": "import pandas, os\n#os.listdir()"
        },
        {
            "cell_type": "code",
            "execution_count": 49,
            "metadata": {},
            "outputs": [],
            "source": "df_geopy=df3\n#df_geopy.head()"
        },
        {
            "cell_type": "code",
            "execution_count": 50,
            "metadata": {},
            "outputs": [],
            "source": "import geopy\n#dir(geopy)"
        },
        {
            "cell_type": "code",
            "execution_count": 51,
            "metadata": {},
            "outputs": [
                {
                    "data": {
                        "text/plain": "pandas.core.frame.DataFrame"
                    },
                    "execution_count": 51,
                    "metadata": {},
                    "output_type": "execute_result"
                }
            ],
            "source": "type(df_geopy)"
        },
        {
            "cell_type": "code",
            "execution_count": 52,
            "metadata": {},
            "outputs": [
                {
                    "name": "stdout",
                    "output_type": "stream",
                    "text": "<class 'pandas.core.frame.DataFrame'>\nInt64Index: 103 entries, 0 to 102\nData columns (total 4 columns):\nPostalCode       103 non-null object\nBorough          103 non-null object\nNeighbourhood    103 non-null object\naddress          103 non-null object\ndtypes: object(4)\nmemory usage: 4.0+ KB\n"
                }
            ],
            "source": "df_geopy.info()"
        },
        {
            "cell_type": "markdown",
            "metadata": {},
            "source": "### Import GeoPy:"
        },
        {
            "cell_type": "code",
            "execution_count": 53,
            "metadata": {},
            "outputs": [
                {
                    "name": "stdout",
                    "output_type": "stream",
                    "text": "\nThe following command must be run outside of the IPython shell:\n\n    $ pip install geopy\n\nThe Python package manager (pip) can only be used from outside of IPython.\nPlease reissue the `pip` command in a separate terminal or command prompt.\n\nSee the Python documentation for more information on how to install packages:\n\n    https://docs.python.org/3/installing/\n"
                }
            ],
            "source": "pip install geopy"
        },
        {
            "cell_type": "code",
            "execution_count": 54,
            "metadata": {},
            "outputs": [
                {
                    "name": "stdout",
                    "output_type": "stream",
                    "text": "Nominatim imported\n"
                }
            ],
            "source": "from geopy.geocoders import Nominatim\nprint('Nominatim imported')"
        },
        {
            "cell_type": "markdown",
            "metadata": {},
            "source": "### Set connection to OpenStreeMap "
        },
        {
            "cell_type": "code",
            "execution_count": 55,
            "metadata": {},
            "outputs": [
                {
                    "data": {
                        "text/html": "<div>\n<style scoped>\n    .dataframe tbody tr th:only-of-type {\n        vertical-align: middle;\n    }\n\n    .dataframe tbody tr th {\n        vertical-align: top;\n    }\n\n    .dataframe thead th {\n        text-align: right;\n    }\n</style>\n<table border=\"1\" class=\"dataframe\">\n  <thead>\n    <tr style=\"text-align: right;\">\n      <th></th>\n      <th>PostalCode</th>\n      <th>Borough</th>\n      <th>Neighbourhood</th>\n      <th>address</th>\n    </tr>\n  </thead>\n  <tbody>\n    <tr>\n      <th>0</th>\n      <td>M1B</td>\n      <td>Scarborough</td>\n      <td>Malvern, Rouge</td>\n      <td>M1B,Scarborough,Malvern, Rouge</td>\n    </tr>\n    <tr>\n      <th>1</th>\n      <td>M1C</td>\n      <td>Scarborough</td>\n      <td>Rouge Hill, Port Union, Highland Creek</td>\n      <td>M1C,Scarborough,Rouge Hill, Port Union, Highla...</td>\n    </tr>\n    <tr>\n      <th>2</th>\n      <td>M1E</td>\n      <td>Scarborough</td>\n      <td>Guildwood, Morningside, West Hill</td>\n      <td>M1E,Scarborough,Guildwood, Morningside, West Hill</td>\n    </tr>\n    <tr>\n      <th>3</th>\n      <td>M1G</td>\n      <td>Scarborough</td>\n      <td>Woburn</td>\n      <td>M1G,Scarborough,Woburn</td>\n    </tr>\n    <tr>\n      <th>4</th>\n      <td>M1H</td>\n      <td>Scarborough</td>\n      <td>Cedarbrae</td>\n      <td>M1H,Scarborough,Cedarbrae</td>\n    </tr>\n  </tbody>\n</table>\n</div>",
                        "text/plain": "  PostalCode      Borough                           Neighbourhood  \\\n0        M1B  Scarborough                          Malvern, Rouge   \n1        M1C  Scarborough  Rouge Hill, Port Union, Highland Creek   \n2        M1E  Scarborough       Guildwood, Morningside, West Hill   \n3        M1G  Scarborough                                  Woburn   \n4        M1H  Scarborough                               Cedarbrae   \n\n                                             address  \n0                     M1B,Scarborough,Malvern, Rouge  \n1  M1C,Scarborough,Rouge Hill, Port Union, Highla...  \n2  M1E,Scarborough,Guildwood, Morningside, West Hill  \n3                             M1G,Scarborough,Woburn  \n4                          M1H,Scarborough,Cedarbrae  "
                    },
                    "execution_count": 55,
                    "metadata": {},
                    "output_type": "execute_result"
                }
            ],
            "source": "df_geopy['address']=df_geopy['PostalCode'] + ',' + df_geopy['Borough'] + ','+ df_geopy['Neighbourhood']\ndf_geopy.head()"
        },
        {
            "cell_type": "code",
            "execution_count": 56,
            "metadata": {},
            "outputs": [
                {
                    "name": "stderr",
                    "output_type": "stream",
                    "text": "/opt/conda/envs/Python36/lib/python3.6/site-packages/ipykernel/__main__.py:1: DeprecationWarning: Using Nominatim with the default \"geopy/1.18.1\" `user_agent` is strongly discouraged, as it violates Nominatim's ToS https://operations.osmfoundation.org/policies/nominatim/ and may possibly cause 403 and 429 HTTP errors. Please specify a custom `user_agent` with `Nominatim(user_agent=\"my-application\")` or by overriding the default `user_agent`: `geopy.geocoders.options.default_user_agent = \"my-application\"`. In geopy 2.0 this will become an exception.\n  if __name__ == '__main__':\n"
                }
            ],
            "source": "nom = Nominatim()"
        },
        {
            "cell_type": "code",
            "execution_count": 57,
            "metadata": {},
            "outputs": [],
            "source": "n=nom.geocode('M1B, Scarborough, Rouge,Malvern')\nn"
        },
        {
            "cell_type": "code",
            "execution_count": 58,
            "metadata": {},
            "outputs": [
                {
                    "ename": "AttributeError",
                    "evalue": "'NoneType' object has no attribute 'latitude'",
                    "output_type": "error",
                    "traceback": [
                        "\u001b[0;31m---------------------------------------------------------------------------\u001b[0m",
                        "\u001b[0;31mAttributeError\u001b[0m                            Traceback (most recent call last)",
                        "\u001b[0;32m<ipython-input-58-f2eba8427407>\u001b[0m in \u001b[0;36m<module>\u001b[0;34m\u001b[0m\n\u001b[0;32m----> 1\u001b[0;31m \u001b[0mn\u001b[0m\u001b[0;34m.\u001b[0m\u001b[0mlatitude\u001b[0m\u001b[0;34m\u001b[0m\u001b[0;34m\u001b[0m\u001b[0m\n\u001b[0m",
                        "\u001b[0;31mAttributeError\u001b[0m: 'NoneType' object has no attribute 'latitude'"
                    ]
                }
            ],
            "source": "n.latitude"
        },
        {
            "cell_type": "code",
            "execution_count": null,
            "metadata": {},
            "outputs": [],
            "source": "type(n)"
        },
        {
            "cell_type": "markdown",
            "metadata": {},
            "source": "### Watch out for None values"
        },
        {
            "cell_type": "code",
            "execution_count": null,
            "metadata": {},
            "outputs": [],
            "source": "n2=nom.geocode('M1E Scarborough Guildwood,Morningside,West Hill')\nprint(n2)"
        },
        {
            "cell_type": "code",
            "execution_count": null,
            "metadata": {},
            "outputs": [],
            "source": "df_geopy['Coordinates'] =df_geopy['address'].apply(nom.geocode)\ndf_geopy.head()\n\n"
        },
        {
            "cell_type": "markdown",
            "metadata": {},
            "source": "#### location objects created at 'Coordinates'\n"
        },
        {
            "cell_type": "code",
            "execution_count": null,
            "metadata": {},
            "outputs": [],
            "source": "df_geopy.info()"
        },
        {
            "cell_type": "code",
            "execution_count": null,
            "metadata": {},
            "outputs": [],
            "source": "df_geopy.Coordinates[0]"
        },
        {
            "cell_type": "code",
            "execution_count": null,
            "metadata": {},
            "outputs": [],
            "source": "print(df_geopy.Coordinates[1])"
        },
        {
            "cell_type": "code",
            "execution_count": null,
            "metadata": {},
            "outputs": [],
            "source": "df_geopy['latitude']=df_geopy['Coordinates'].apply(lambda x: x.latitude if x !=None else None)\ndf_geopy['longitude']=df_geopy['Coordinates'].apply(lambda x: x.longitude if x !=None else None)\ndf_geopy.head()"
        },
        {
            "cell_type": "code",
            "execution_count": null,
            "metadata": {},
            "outputs": [],
            "source": "df_geopy.to_csv('geo_loc_py.csv')"
        },
        {
            "cell_type": "markdown",
            "metadata": {},
            "source": "#### As just 5 addresses were fruitful, we will go on to use the given geo-location data."
        },
        {
            "cell_type": "code",
            "execution_count": null,
            "metadata": {},
            "outputs": [],
            "source": "print('The latitude of', df_geopy.address[0],  'is', df_geopy.latitude[0], 'and its longitude is',df_geopy.longitude[0])"
        },
        {
            "cell_type": "markdown",
            "metadata": {},
            "source": "\n## 2.2. Used the csv file to create the requested dataframe\n\n"
        },
        {
            "cell_type": "code",
            "execution_count": null,
            "metadata": {},
            "outputs": [],
            "source": "# Load the Pandas libraries with alias 'pd' \nimport pandas as pd \n# Read data from file 'filename.csv' \n# (in the same directory that your python process is based)\n# Control delimiters, rows, column names with read_csv (see later) \ndata2 = pd.read_csv(\"geopy.csv\") \n# Preview the first 5 lines of the loaded data \ndata2.head()"
        },
        {
            "cell_type": "code",
            "execution_count": null,
            "metadata": {},
            "outputs": [],
            "source": "data3 = pd.read_csv(\"Geospatial_Coordinates.csv\") \n# Preview the first 5 lines of the loaded data \ndata3.head()"
        },
        {
            "cell_type": "markdown",
            "metadata": {},
            "source": "- Rename 'Postal Code'"
        },
        {
            "cell_type": "code",
            "execution_count": null,
            "metadata": {},
            "outputs": [],
            "source": "data3.rename(columns={'Postal Code': 'PostalCode'}, inplace=True)\n#data3.head()"
        },
        {
            "cell_type": "code",
            "execution_count": null,
            "metadata": {},
            "outputs": [],
            "source": "data1 = pd.merge(data3, data2, how='inner', on=None, left_on=None, right_on=None,\n         left_index=False, right_index=False, sort=True,\n         suffixes=('_x', '_y'), copy=True, indicator=False,\n         validate=None)\n\ndata1.head()"
        },
        {
            "cell_type": "code",
            "execution_count": null,
            "metadata": {},
            "outputs": [],
            "source": "data1.info()"
        },
        {
            "cell_type": "markdown",
            "metadata": {},
            "source": "- Rearrange columns and drop foreign key:"
        },
        {
            "cell_type": "code",
            "execution_count": null,
            "metadata": {},
            "outputs": [],
            "source": "cols = data1.columns.tolist()\ncols"
        },
        {
            "cell_type": "code",
            "execution_count": null,
            "metadata": {},
            "outputs": [],
            "source": "new_column_order = ['PostalCode',\n 'Borough',\n 'Neighbourhood',\n 'Latitude',\n 'Longitude']\nnew_column_order"
        },
        {
            "cell_type": "code",
            "execution_count": null,
            "metadata": {},
            "outputs": [],
            "source": "data1 = data1[new_column_order]\n#data1.head()"
        },
        {
            "cell_type": "markdown",
            "metadata": {},
            "source": "- Sort dataframe to match example:"
        },
        {
            "cell_type": "code",
            "execution_count": null,
            "metadata": {},
            "outputs": [],
            "source": "sorted_df = data1.sort_values([ 'Neighbourhood', 'Latitude'], ascending=[True, True])\n#sorted_df.head()\n# no idea how to get it exacly like the exqample :("
        },
        {
            "cell_type": "code",
            "execution_count": null,
            "metadata": {},
            "outputs": [],
            "source": "sorted_df.reset_index(inplace=True)\n#sorted_df.head()\n"
        },
        {
            "cell_type": "code",
            "execution_count": null,
            "metadata": {},
            "outputs": [],
            "source": "sorted_cols =sorted_df.columns.tolist()\n#sorted_cols"
        },
        {
            "cell_type": "code",
            "execution_count": null,
            "metadata": {},
            "outputs": [],
            "source": "new_column_order2 = ['PostalCode',\n 'Borough',\n 'Neighbourhood',\n 'Latitude',\n 'Longitude']\nnew_column_order2"
        },
        {
            "cell_type": "code",
            "execution_count": null,
            "metadata": {},
            "outputs": [],
            "source": "sorted_dataframe = sorted_df[new_column_order]\nsorted_dataframe.head()"
        },
        {
            "cell_type": "code",
            "execution_count": null,
            "metadata": {},
            "outputs": [],
            "source": "sorted_dataframe.to_csv('sorted_geoloc.csv')"
        },
        {
            "cell_type": "markdown",
            "metadata": {},
            "source": "\n## Build a test set with boroughs in Toronto\n\n\n\n"
        },
        {
            "cell_type": "code",
            "execution_count": null,
            "metadata": {},
            "outputs": [],
            "source": "import numpy as np # library to handle data in a vectorized manner\n\nimport pandas as pd # library for data analsysis\npd.set_option('display.max_columns', None)\npd.set_option('display.max_rows', None)\n\nimport json # library to handle JSON files\n\n#!conda install -c conda-forge geopy --yes # uncomment this line if you haven't completed the Foursquare API lab\nfrom geopy.geocoders import Nominatim # convert an address into latitude and longitude values\n\nimport requests # library to handle requests\nfrom pandas.io.json import json_normalize # tranform JSON file into a pandas dataframe\n\n# Matplotlib and associated plotting modules\nimport matplotlib.cm as cm\nimport matplotlib.colors as colors\n\n# import k-means from clustering stage\nfrom sklearn.cluster import KMeans\n\n#!conda install -c conda-forge folium=0.5.0 --yes # uncomment this line if you haven't completed the Foursquare API lab\nimport folium # map rendering library\n\nprint('Libraries imported.')"
        },
        {
            "cell_type": "markdown",
            "metadata": {},
            "source": "#### How to get coordinates:"
        },
        {
            "cell_type": "code",
            "execution_count": null,
            "metadata": {},
            "outputs": [],
            "source": "address = 'Adelaide'\n\ngeolocator = Nominatim()\nlocation = geolocator.geocode(address)\nlatitude = location.latitude\nlongitude = location.longitude\nprint('The geograpical coordinate of Adelaide are {}, {}.'.format(latitude, longitude))"
        },
        {
            "cell_type": "markdown",
            "metadata": {},
            "source": "#### How to map with Folium:"
        },
        {
            "cell_type": "code",
            "execution_count": null,
            "metadata": {},
            "outputs": [],
            "source": "!conda install -c conda-forge folium=0.5.0 \n"
        },
        {
            "cell_type": "markdown",
            "metadata": {},
            "source": "## Ready to generate maps, open them on your browser!\n\n- if you cannot generate the maps open PGA_map_*.html from the zip file\n\n"
        },
        {
            "cell_type": "code",
            "execution_count": null,
            "metadata": {},
            "outputs": [],
            "source": "import pandas as pd\nimport folium\n\nprint('imported pandas & folium')"
        },
        {
            "cell_type": "markdown",
            "metadata": {},
            "source": "### Map generated with folium default markers:"
        },
        {
            "cell_type": "code",
            "execution_count": null,
            "metadata": {},
            "outputs": [],
            "source": "import pandas as pd\nimport folium\n\n#grab a random sample from df\nsubset_of_df = sorted_dataframe.sample(n=11)\nmap_test = folium.Map(location=[subset_of_df['Latitude'].mean(), \n                                subset_of_df['Longitude'].mean()], \n                      zoom_start=10)\n#creating a Marker for each point in df_sample. Each point will get a popup with their zip\nfor row in subset_of_df.itertuples():if you cannot \n    map_test.add_child(folium.Marker(location=[row.Latitude ,row.Longitude],\n           popup=row.Borough))\n\n    \n#map_test\n\n#open map_test.html in browser\nmap_test.save(\"map_test.html\")\n\n# if you cannot generate the maps open PGA_map_*.html from the zip file\n"
        },
        {
            "cell_type": "markdown",
            "metadata": {},
            "source": "### Test on Borough data, map with MarkerClusters:"
        },
        {
            "cell_type": "code",
            "execution_count": null,
            "metadata": {},
            "outputs": [],
            "source": "from folium.plugins import MarkerCluster\nmap_borough = folium.Map(location=[subset_of_df['Latitude'].mean(), \n subset_of_df['Longitude'].mean()], \n zoom_start=10)\nmc = MarkerCluster()\n#creating a Marker for each point in df_sample. Each point will get a popup with their zip\nfor row in subset_of_df.itertuples():\n    mc.add_child(folium.Marker(location=[row.Latitude,  row.Longitude],\n                 popup=row.Borough))\n    map_borough.add_child(mc)\n\n\n#map_borough\n\n#open in map_borough.html browser \nmap_borough.save(\"map_borough.html\")\n\n#if you cannot generate the maps open PGA_map_*.html from the zip file\n"
        },
        {
            "cell_type": "markdown",
            "metadata": {},
            "source": "\n## 3.2. Replicate the same analysis with the neighborhoods in Toronto. \n\n"
        },
        {
            "cell_type": "code",
            "execution_count": null,
            "metadata": {},
            "outputs": [],
            "source": "import pandas as pd\nimport folium\n\n\n\n#grab a random sample from df\ntoronto_n = sorted_dataframe.sample(n=20)\nmap_toronto = folium.Map(location=[toronto_n['Latitude'].mean(), \n                                toronto_n['Longitude'].mean()], \n                      zoom_start=10)\n#creating a Marker for each point in df_sample. Each point will get a popup with their zip\nfor row in toronto_n.itertuples():\n    map_toronto.add_child(folium.Marker(location=[row.Latitude ,row.Longitude],\n           popup=row.Neighbourhood))\n\n    \nmap_toronto \n\n#open map_toronto.html in browser\n\nmap_toronto.save(\"map_toronto20.html\")\n\n#if you cannot generate the maps open PGA_map_*.html from the zip file\n"
        },
        {
            "cell_type": "markdown",
            "metadata": {},
            "source": "great got 20 neighbourhoods...could not get more :("
        },
        {
            "cell_type": "markdown",
            "metadata": {},
            "source": "\n## Used the Foursquare API to explore neighborhoods in Toronto.\n"
        },
        {
            "cell_type": "code",
            "execution_count": null,
            "metadata": {},
            "outputs": [],
            "source": "sorted_dataframe.head()"
        },
        {
            "cell_type": "code",
            "execution_count": null,
            "metadata": {},
            "outputs": [],
            "source": "sorted_dataframe.info()"
        },
        {
            "cell_type": "code",
            "execution_count": null,
            "metadata": {},
            "outputs": [],
            "source": "print('The dataframe has {} boroughs and {} neighborhoods.'.format(\n        len(sorted_dataframe['Borough'].unique()),\n        sorted_dataframe.shape[0]\n    )\n)"
        },
        {
            "cell_type": "markdown",
            "metadata": {},
            "source": "Use geopy library to get the latitude and longitude values of Toronto.\n\n-In order to define an instance of the geocoder, leave out user_agent."
        },
        {
            "cell_type": "code",
            "execution_count": null,
            "metadata": {},
            "outputs": [],
            "source": "address = 'Toronto, CA'\n\ngeolocator = Nominatim()\nlocation = geolocator.geocode(address)\nlatitude = location.latitude\nlongitude = location.longitude\nprint('The geograpical coordinate of Toronto are {}, {}.'.format(latitude, longitude))"
        },
        {
            "cell_type": "markdown",
            "metadata": {},
            "source": "## Create a map of Toronto\n\n- with its neighborhoods superimposed on top.\n\n- if you cannot replicate the lab open PGA_map_*.html from the zip file"
        },
        {
            "cell_type": "code",
            "execution_count": null,
            "metadata": {},
            "outputs": [],
            "source": "# create map of Toronto using latitude and longitude values\nmap_toronto_neighbourhoods = folium.Map(location=[latitude, longitude], zoom_start=10)\n\n# add markers to map\nfor lat, lng, borough, neighbourhood in zip(sorted_dataframe['Latitude'], sorted_dataframe['Longitude'], sorted_dataframe['Borough'], sorted_dataframe['Neighbourhood']):\n    label = '{}, {}'.format(neighbourhood, borough)\n    label = folium.Popup(label, parse_html=True)\n    folium.CircleMarker(\n        [lat, lng],\n        radius=2,\n        popup=label,\n        color='blue',\n        fill=True,\n        fill_color='#3186cc',\n        fill_opacity=0.7,\n        parse_html=False).add_to(map_toronto_neighbourhoods)  \n    \nmap_toronto_neighbourhoods\n\nmap_toronto_neighbourhoods.save(\"map_toronto_neighbourhoods.html\")\n\n#open map_toronto_neighbourhoods.html in browser\n#if you cannot generate the maps open PGA_map_*.html from the zip file\n"
        },
        {
            "cell_type": "markdown",
            "metadata": {},
            "source": "\nTo kick off, let's focus on just one borough_...'York' for example:"
        },
        {
            "cell_type": "code",
            "execution_count": null,
            "metadata": {},
            "outputs": [],
            "source": "address = 'York, Toronto'\n\ngeolocator = Nominatim()\nlocation = geolocator.geocode(address)\nlatitude = location.latitude\nlongitude = location.longitude\nprint('The geograpical coordinates of York, Toronto are {}, {}.'.format(latitude, longitude))"
        },
        {
            "cell_type": "markdown",
            "metadata": {},
            "source": "Lets repeat as above, but for York, Toronto only:"
        },
        {
            "cell_type": "code",
            "execution_count": null,
            "metadata": {},
            "outputs": [],
            "source": "york_data = sorted_dataframe[sorted_dataframe['Borough'] == 'York'].reset_index(drop=True)\nyork_data"
        },
        {
            "cell_type": "code",
            "execution_count": null,
            "metadata": {},
            "outputs": [],
            "source": "york_data.info()"
        },
        {
            "cell_type": "code",
            "execution_count": null,
            "metadata": {},
            "outputs": [],
            "source": "# create map of Manhattan using latitude and longitude values\nmap_york_toronto = folium.Map(location=[latitude, longitude], zoom_start=11)\n\n# add markers to map\nfor lat, lng, label in zip(york_data['Latitude'], york_data['Longitude'], york_data['Neighbourhood']):\n    label = folium.Popup(label, parse_html=True)\n    folium.CircleMarker(\n        [lat, lng],\n        radius=5,\n        popup=label,\n        color='blue',\n        fill=True,\n        fill_color='#3186cc',\n        fill_opacity=0.7,\n        parse_html=False).add_to(map_york_toronto)  \n    \nmap_york_toronto\n\nmap_york_toronto.save(\"map_york_toronto.html\")\n\n#open map_york_toronto.html in browser\n#if you cannot generate the maps open PGA_map_*.html from the zip file\n"
        },
        {
            "cell_type": "markdown",
            "metadata": {},
            "source": "### Foursquare:"
        },
        {
            "cell_type": "markdown",
            "metadata": {},
            "source": "### Enter your Foursquare credentials:\n\n- CLIENT_ID = 'cif' # your Foursquare ID\n\n- CLIENT_SECRET = 'csf' # your Foursquare Secret\n\n- VERSION = 'ymd' # Foursquare API version\n\n- print('My credentails: ***')\n- print('CLIENT_ID: ' + CLIENT_ID)\n- print('CLIENT_SECRET:' + CLIENT_SECRET)\n\n"
        },
        {
            "cell_type": "markdown",
            "metadata": {},
            "source": "### Let's explore the first neighborhood in our dataframe.\n\n- Get the neighborhood's name."
        },
        {
            "cell_type": "code",
            "execution_count": null,
            "metadata": {},
            "outputs": [],
            "source": "york_data.info()"
        },
        {
            "cell_type": "code",
            "execution_count": null,
            "metadata": {},
            "outputs": [],
            "source": "neighbourhood_latitude = york_data.loc[0, 'Latitude'] # neighborhood latitude value\nneighbourhood_longitude = york_data.loc[0, 'Longitude'] # neighborhood longitude value\n\nneighbourhood_name = york_data.loc[0, 'Neighbourhood'] # neighborhood name\n\nprint('Latitude and longitude values of {} are {}, {}.'.format(neighbourhood_name, \n                                                               neighbourhood_latitude, \n                                                               neighbourhood_longitude))"
        },
        {
            "cell_type": "markdown",
            "metadata": {},
            "source": "### Now, let's get the top 100 venues that are in Caledonia-Fairbanks within a radius of 500 meters.\n\n- First, let's create the GET request URL. Name your URL url."
        },
        {
            "cell_type": "markdown",
            "metadata": {},
            "source": "### Code should look like this:\n\n\nLIMIT = 100\n\nradius = 500 \n\nurl = 'https://api.foursquare.com/v2/venues/explore?&client_id={}&client_secret={}&v={}&ll={},{}&radius={}&limit={}'.format(\n\n    CLIENT_ID, \n\n    CLIENT_SECRET, \n    \n    VERSION, \n    \n    neighbourhood_latitude, \n    \n    neighbourhood_longitude, \n    \n    radius, \n    \n    LIMIT)\n    \nurl    "
        },
        {
            "cell_type": "code",
            "execution_count": null,
            "metadata": {},
            "outputs": [],
            "source": "york_results = requests.get(url).json()\n#york_results"
        },
        {
            "cell_type": "markdown",
            "metadata": {},
            "source": "## Get the most common venue categories in each neighborhood \n\n- use get_category_type function from the Foursquare lab"
        },
        {
            "cell_type": "code",
            "execution_count": null,
            "metadata": {},
            "outputs": [],
            "source": "# function that extracts the category of the venue\ndef get_category_type(row):\n    try:\n        categories_list = row['categories']\n    except:\n        categories_list = row['venue.categories']\n        \n    if len(categories_list) == 0:\n        return None\n    else:\n        return categories_list[0]['name']"
        },
        {
            "cell_type": "code",
            "execution_count": null,
            "metadata": {},
            "outputs": [],
            "source": "york_venues = york_results['response']['groups'][0]['items']\n    \nyork_nearby_venues = json_normalize(york_venues) # flatten JSON\n\n# filter columns\nyork_filtered_columns = ['venue.name', 'venue.categories', 'venue.location.lat', 'venue.location.lng']\nyork_nearby_venues = york_nearby_venues.loc[:, york_filtered_columns]\n\n# filter the category for each row\nyork_nearby_venues['venue.categories'] = york_nearby_venues.apply(get_category_type, axis=1)\n\n# clean columns\nyork_nearby_venues.columns = [col.split(\".\")[-1] for col in york_nearby_venues.columns]\n\nyork_nearby_venues.head()"
        },
        {
            "cell_type": "code",
            "execution_count": null,
            "metadata": {},
            "outputs": [],
            "source": "york_nearby_venues.info()"
        },
        {
            "cell_type": "code",
            "execution_count": null,
            "metadata": {},
            "outputs": [],
            "source": "print('{} venues were returned by Foursquare.'.format(york_nearby_venues.shape[0]))"
        },
        {
            "cell_type": "markdown",
            "metadata": {},
            "source": "## Explore Neighborhoods in York:\n\n- Let's create a function to repeat the same process to all the neighborhoods in York"
        },
        {
            "cell_type": "code",
            "execution_count": null,
            "metadata": {},
            "outputs": [],
            "source": "def getNearbyVenues(names, latitudes, longitudes, radius=500):\n    \n    venues_list=[]\n    for name, lat, lng in zip(names, latitudes, longitudes):\n        print(name)\n            \n        # create the API request URL\n        url = 'https://api.foursquare.com/v2/venues/explore?&client_id={}&client_secret={}&v={}&ll={},{}&radius={}&limit={}'.format(\n            CLIENT_ID, \n            CLIENT_SECRET, \n            VERSION, \n            lat, \n            lng, \n            radius, \n            LIMIT)\n            \n        # make the GET request\n        results = requests.get(url).json()[\"response\"]['groups'][0]['items']\n        \n        # return only relevant information for each nearby venue\n        venues_list.append([(\n            name, \n            lat, \n            lng, \n            v['venue']['name'], \n            v['venue']['location']['lat'], \n            v['venue']['location']['lng'],  \n            v['venue']['categories'][0]['name']) for v in results])\n\n    nearby_venues = pd.DataFrame([item for venue_list in venues_list for item in venue_list])\n    nearby_venues.columns = ['Neighbourhood', \n                  'Neighbourhood Latitude', \n                  'Neighbourhood Longitude', \n                  'Venue', \n                  'Venue Latitude', \n                  'Venue Longitude', \n                  'Venue Category']\n    \n    return(nearby_venues)"
        },
        {
            "cell_type": "code",
            "execution_count": null,
            "metadata": {
                "scrolled": true
            },
            "outputs": [],
            "source": "\nyork_venues = getNearbyVenues(names=york_data['Neighbourhood'],\n                                   latitudes=york_data['Latitude'],\n                                   longitudes=york_data['Longitude']\n                                  )\n\n"
        },
        {
            "cell_type": "code",
            "execution_count": null,
            "metadata": {},
            "outputs": [],
            "source": "york_venues.head()"
        },
        {
            "cell_type": "code",
            "execution_count": null,
            "metadata": {},
            "outputs": [],
            "source": "york_venues.info()"
        },
        {
            "cell_type": "markdown",
            "metadata": {},
            "source": "Let's see how many venues were returned for each neighborhood:"
        },
        {
            "cell_type": "code",
            "execution_count": null,
            "metadata": {},
            "outputs": [],
            "source": "york_venues.groupby('Neighbourhood').count()"
        },
        {
            "cell_type": "markdown",
            "metadata": {},
            "source": "Now let's see how many types of venues there are in York:"
        },
        {
            "cell_type": "code",
            "execution_count": null,
            "metadata": {
                "scrolled": true
            },
            "outputs": [],
            "source": "print('There are {} uniques categories.'.format(len(york_venues['Venue Category'].unique())))\n"
        },
        {
            "cell_type": "markdown",
            "metadata": {},
            "source": "## 3.5. Used these features to group the neighborhoods into clusters\n\n- use one hot coding to analyse each of the neighbourhoods in York, Toronto:"
        },
        {
            "cell_type": "code",
            "execution_count": null,
            "metadata": {},
            "outputs": [],
            "source": "# one hot encoding\nyork_onehot = pd.get_dummies(york_venues[['Venue Category']], prefix=\"\", prefix_sep=\"\")\n\n# add neighborhood column back to dataframe\nyork_onehot['Neighbourhood'] = york_venues['Neighbourhood'] \n\n# move neighborhood column to the first column\nyork_fixed_columns = [york_onehot.columns[-1]] + list(york_onehot.columns[:-1])\nyork_onehot = york_onehot[york_fixed_columns]\n\nyork_onehot.head()"
        },
        {
            "cell_type": "code",
            "execution_count": null,
            "metadata": {},
            "outputs": [],
            "source": "york_onehot.info()"
        },
        {
            "cell_type": "code",
            "execution_count": null,
            "metadata": {},
            "outputs": [],
            "source": "york_grouped = york_onehot.groupby('Neighbourhood').mean().reset_index()\nyork_grouped.head()"
        },
        {
            "cell_type": "code",
            "execution_count": null,
            "metadata": {},
            "outputs": [],
            "source": "york_grouped.info()"
        },
        {
            "cell_type": "markdown",
            "metadata": {},
            "source": "Let's find the top venues:"
        },
        {
            "cell_type": "code",
            "execution_count": null,
            "metadata": {},
            "outputs": [],
            "source": "num_top_venues = 3\n\nfor hood in york_grouped['Neighbourhood']:\n    print(\"----\"+hood+\"----\")\n    york_temp = york_grouped[york_grouped['Neighbourhood'] == hood].T.reset_index()\n    york_temp.columns = ['venue','freq']\n    york_temp = york_temp.iloc[1:]\n    york_temp['freq'] = york_temp['freq'].astype(float)\n    york_temp = york_temp.round({'freq': 2})\n    print(york_temp.sort_values('freq', ascending=False).reset_index(drop=True).head(num_top_venues))\n    print('\\n')"
        },
        {
            "cell_type": "markdown",
            "metadata": {},
            "source": "### Let's put that into a pandas dataframe\n\n- write a function to sort the venues in descending order."
        },
        {
            "cell_type": "code",
            "execution_count": null,
            "metadata": {},
            "outputs": [],
            "source": "def return_most_common_venues(row, num_top_venues):\n    row_categories = row.iloc[1:]\n    row_categories_sorted = row_categories.sort_values(ascending=False)\n    \n    return row_categories_sorted.index.values[0:num_top_venues]"
        },
        {
            "cell_type": "markdown",
            "metadata": {},
            "source": "- Now let's create the new dataframe and display the top 7 venues for each neighborhood."
        },
        {
            "cell_type": "code",
            "execution_count": null,
            "metadata": {},
            "outputs": [],
            "source": "num_top_venues = 17\n\nindicators = ['st', 'nd', 'rd']\n\n# create columns according to number of top venues\ncolumns = ['Neighbourhood']\nfor ind in np.arange(num_top_venues):\n    try:\n        columns.append('{}{} Most Common Venue'.format(ind+1, indicators[ind]))\n    except:\n        columns.append('{}th Most Common Venue'.format(ind+1))\n\n# create a new dataframe\nyork_neighbourhoods_venues_sorted = pd.DataFrame(columns=columns)\n\nyork_neighbourhoods_venues_sorted"
        },
        {
            "cell_type": "code",
            "execution_count": null,
            "metadata": {},
            "outputs": [],
            "source": "york_neighbourhoods_venues_sorted['Neighbourhood'] = york_grouped['Neighbourhood']\n\nyork_neighbourhoods_venues_sorted.head(2)"
        },
        {
            "cell_type": "code",
            "execution_count": null,
            "metadata": {},
            "outputs": [],
            "source": "for ind in np.arange(york_grouped.shape[0]):\n    york_neighbourhoods_venues_sorted.iloc[ind, 1:] = return_most_common_venues(york_grouped.iloc[ind, :], num_top_venues)\n\nyork_neighbourhoods_venues_sorted.head(2)"
        },
        {
            "cell_type": "markdown",
            "metadata": {},
            "source": "## Used the Folium library to generated maps to visualize neighborhoods on and how they cluster together.\n\n\n###  Run k-means to cluster the neighborhood into 2 clusters."
        },
        {
            "cell_type": "code",
            "execution_count": null,
            "metadata": {},
            "outputs": [],
            "source": "# set number of clusters\nkclusters = 2\n\nyork_grouped_clustering = york_grouped.drop('Neighbourhood', 1)\n\n# run k-means clustering\nyork_kmeans = KMeans(n_clusters=kclusters, random_state=0).fit(york_grouped_clustering)\n\n# check cluster labels generated for each row in the dataframe\nyork_kmeans.labels_[0:5] "
        },
        {
            "cell_type": "markdown",
            "metadata": {},
            "source": "now lets merge the clusters & sorted venue table:"
        },
        {
            "cell_type": "code",
            "execution_count": null,
            "metadata": {},
            "outputs": [],
            "source": "# add clustering labels\nyork_neighbourhoods_venues_sorted.insert(0, 'Cluster Labels', york_kmeans.labels_)\n\nyork_merged = york_data\n\n# merge toronto_grouped with toronto_data to add latitude/longitude for each neighborhood\nyork_merged = york_merged.join(york_neighbourhoods_venues_sorted.set_index('Neighbourhood'), on='Neighbourhood')\n\nyork_merged"
        },
        {
            "cell_type": "markdown",
            "metadata": {},
            "source": "### Generate maps to visualize your neighborhoods and how they cluster together.\n\n"
        },
        {
            "cell_type": "code",
            "execution_count": null,
            "metadata": {},
            "outputs": [],
            "source": "# create map\nyork_map_clusters = folium.Map(location=[latitude, longitude], zoom_start=11)\n\n# set color scheme for the clusters\nx = np.arange(kclusters)\nys = [i + x + (i*x)**2 for i in range(kclusters)]\ncolors_array = cm.rainbow(np.linspace(0, 1, len(ys)))\nrainbow = [colors.rgb2hex(i) for i in colors_array]\n\n# add markers to the map\nmarkers_colors = []\nfor lat, lon, poi, cluster in zip(york_merged['Latitude'], york_merged['Longitude'], york_merged['Neighbourhood'], york_merged['Cluster Labels']):\n    label = folium.Popup(str(poi) + ' Cluster ' + str(cluster), parse_html=True)\n    folium.CircleMarker(\n        [lat, lon],\n        radius=5,\n        popup=label,\n        color=rainbow[cluster-1],\n        fill=True,\n        fill_color=rainbow[cluster-1],\n        fill_opacity=0.7).add_to(york_map_clusters)\n       \nyork_map_clusters\n\nyork_map_clusters.save(\"york_map_clusters.html\")\n\n#open york_map_clusters.html in browser\n#if you cannot generate the maps open PGA_map_*.html from the zip file"
        },
        {
            "cell_type": "markdown",
            "metadata": {},
            "source": "### Examine Clusters\n\n- examen & determine the discriminating venue categories that distinguish each cluster. "
        },
        {
            "cell_type": "markdown",
            "metadata": {},
            "source": "- Red Cluster:\n"
        },
        {
            "cell_type": "code",
            "execution_count": null,
            "metadata": {},
            "outputs": [],
            "source": "york_merged.loc[york_merged['Cluster Labels'] == 0, york_merged.columns[[1] + list(range(5, york_merged.shape[1]))]]"
        },
        {
            "cell_type": "markdown",
            "metadata": {},
            "source": "- Blue Cluster:"
        },
        {
            "cell_type": "markdown",
            "metadata": {},
            "source": "#### The neigbourhood Westson standsout from the four others in the York borough of  Toronto, with an important Park and as can be seen on the map is close to the highway, its other imporant venues are women's stores and hockey areana.\n  \n"
        },
        {
            "cell_type": "code",
            "execution_count": null,
            "metadata": {},
            "outputs": [],
            "source": "york_merged.loc[york_merged['Cluster Labels'] == 1, york_merged.columns[[1] + list(range(5, york_merged.shape[1]))]]"
        }
    ],
    "metadata": {
        "kernelspec": {
            "display_name": "Python 3.6",
            "language": "python",
            "name": "python3"
        },
        "language_info": {
            "codemirror_mode": {
                "name": "ipython",
                "version": 3
            },
            "file_extension": ".py",
            "mimetype": "text/x-python",
            "name": "python",
            "nbconvert_exporter": "python",
            "pygments_lexer": "ipython3",
            "version": "3.6.9"
        },
        "widgets": {
            "state": {},
            "version": "1.1.2"
        }
    },
    "nbformat": 4,
    "nbformat_minor": 2
}